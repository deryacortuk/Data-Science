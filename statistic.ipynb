{
 "cells": [
  {
   "cell_type": "code",
   "execution_count": 1,
   "id": "ca6c4206",
   "metadata": {},
   "outputs": [],
   "source": [
    "# Probobility \n",
    "# Discrete Probability Distributions ( Bernoulli, Binomial, Poisson,Multinomial)\n",
    "# Continuous Probability Distributions (Normal,Uniform,Exponential)"
   ]
  },
  {
   "cell_type": "code",
   "execution_count": 2,
   "id": "a896456c",
   "metadata": {},
   "outputs": [],
   "source": [
    "# Bernoulli distribution is a discrete probability distribution. It describes the probability of achieving a “success” or “failure” from a Bernoulli trial."
   ]
  },
  {
   "cell_type": "code",
   "execution_count": 3,
   "id": "52d6b5fe",
   "metadata": {},
   "outputs": [],
   "source": [
    "from scipy.stats import bernoulli"
   ]
  },
  {
   "cell_type": "code",
   "execution_count": 5,
   "id": "c41d3b33",
   "metadata": {},
   "outputs": [],
   "source": [
    "p = 0.56"
   ]
  },
  {
   "cell_type": "code",
   "execution_count": 7,
   "id": "47314df9",
   "metadata": {},
   "outputs": [
    {
     "data": {
      "text/plain": [
       "0.43999999999999995"
      ]
     },
     "execution_count": 7,
     "metadata": {},
     "output_type": "execute_result"
    }
   ],
   "source": [
    "pt = bernoulli(p)                    # pmf: probability mass function\n",
    "pt.pmf(k = 0)"
   ]
  },
  {
   "cell_type": "code",
   "execution_count": 8,
   "id": "7a6dac4c",
   "metadata": {},
   "outputs": [],
   "source": [
    "### Law of large numbers\n",
    "# The large numbers theorem states that if the same experiment or study is repeated independently a large number of times, the average of the results of the trials must be close to the expected value.\n",
    "# The result becomes closer to the expected value as the number of trials is increased.\n"
   ]
  },
  {
   "cell_type": "code",
   "execution_count": 9,
   "id": "3d81af90",
   "metadata": {},
   "outputs": [],
   "source": [
    "from scipy.stats import binom\n",
    "\n",
    "\n",
    "\n"
   ]
  },
  {
   "cell_type": "code",
   "execution_count": 11,
   "id": "4d7e3243",
   "metadata": {},
   "outputs": [
    {
     "name": "stdout",
     "output_type": "stream",
     "text": [
      "0.0017918782400182219\n",
      "2.568613954905362e-261\n",
      "7.530772384973588e-65\n"
     ]
    }
   ],
   "source": [
    "p = 0.01\n",
    "n = 1000\n",
    "pd = binom(n, p)\n",
    "print(pd.pmf(20))\n",
    "print(pd.pmf(250))\n",
    "print(pd.pmf(100))"
   ]
  },
  {
   "cell_type": "code",
   "execution_count": 12,
   "id": "21600d03",
   "metadata": {},
   "outputs": [],
   "source": [
    "# Poisson Distribution\n",
    "# A Poisson distribution is a discrete probability distribution. \n",
    "# It gives the probability of an event happening a certain number of times (k) within a given interval of time or space. \n",
    "# The Poisson distribution has only one parameter, λ (lambda), which is the mean number of events."
   ]
  },
  {
   "cell_type": "code",
   "execution_count": 13,
   "id": "2a678ae8",
   "metadata": {},
   "outputs": [],
   "source": [
    "from scipy.stats import poisson"
   ]
  },
  {
   "cell_type": "code",
   "execution_count": 14,
   "id": "4293f75d",
   "metadata": {},
   "outputs": [],
   "source": [
    "lambda_p = 0.1"
   ]
  },
  {
   "cell_type": "code",
   "execution_count": 15,
   "id": "acfdf030",
   "metadata": {},
   "outputs": [
    {
     "name": "stdout",
     "output_type": "stream",
     "text": [
      "0.9048374180359595\n"
     ]
    }
   ],
   "source": [
    "pl = poisson(mu = lambda_p)\n",
    "print(pl.pmf(k = 0))"
   ]
  },
  {
   "cell_type": "code",
   "execution_count": 16,
   "id": "85f01ca7",
   "metadata": {},
   "outputs": [
    {
     "name": "stdout",
     "output_type": "stream",
     "text": [
      "2.543911722940494e-32\n"
     ]
    }
   ],
   "source": [
    "print(pl.pmf(k = 17))"
   ]
  },
  {
   "cell_type": "code",
   "execution_count": 17,
   "id": "95a0eb34",
   "metadata": {},
   "outputs": [],
   "source": [
    "# Normal Distribution\n",
    "# The normal distribution is the proper term for a probability bell curve. In a normal distribution the mean is zero and\n",
    "# the standard deviation is 1. It has zero skew and a kurtosis of 3. Normal distributions are symmetrical,\n",
    "# but not all symmetrical distributions are normal.\n",
    "# The Normal Distribution has:\n",
    "# mean = median = mode\n",
    "# symmetry about the center 50% of values less than the mean and 50% greater than the mean"
   ]
  },
  {
   "cell_type": "code",
   "execution_count": 18,
   "id": "a1959fa8",
   "metadata": {},
   "outputs": [],
   "source": [
    "from scipy.stats import norm"
   ]
  },
  {
   "cell_type": "code",
   "execution_count": 19,
   "id": "1c6bc361",
   "metadata": {},
   "outputs": [
    {
     "data": {
      "text/plain": [
       "0.02275013194817921"
      ]
     },
     "execution_count": 19,
     "metadata": {},
     "output_type": "execute_result"
    }
   ],
   "source": [
    "1-norm.cdf(85, 75, 5)           # cdf --> cumulative density function"
   ]
  },
  {
   "cell_type": "code",
   "execution_count": 20,
   "id": "5c59e98c",
   "metadata": {},
   "outputs": [
    {
     "data": {
      "text/plain": [
       "0.0013498980316301035"
      ]
     },
     "execution_count": 20,
     "metadata": {},
     "output_type": "execute_result"
    }
   ],
   "source": [
    "1-norm.cdf(90, 75, 5)"
   ]
  },
  {
   "cell_type": "code",
   "execution_count": 21,
   "id": "ec1c44d0",
   "metadata": {},
   "outputs": [
    {
     "data": {
      "text/plain": [
       "0.6554217416103242"
      ]
     },
     "execution_count": 21,
     "metadata": {},
     "output_type": "execute_result"
    }
   ],
   "source": [
    "1-norm.cdf(73,75, 5)"
   ]
  },
  {
   "cell_type": "code",
   "execution_count": 22,
   "id": "865b4690",
   "metadata": {},
   "outputs": [],
   "source": [
    "# p-value   p < 0.05\n",
    "# The p value, or probability value, tells you how likely it is that your data could have occurred under the null hypothesis.\n",
    "# It does this by calculating the likelihood of your test statistic, which is the number calculated by a statistical\n",
    "# test using your data."
   ]
  },
  {
   "cell_type": "code",
   "execution_count": 23,
   "id": "062d0d5d",
   "metadata": {},
   "outputs": [],
   "source": [
    "# Shapiro-Wilks testi"
   ]
  },
  {
   "cell_type": "code",
   "execution_count": 24,
   "id": "b5c4eae8",
   "metadata": {},
   "outputs": [],
   "source": [
    "# H0: Sample dist and Theory dist. are not different.\n",
    "# H1: There is a difference."
   ]
  },
  {
   "cell_type": "code",
   "execution_count": 26,
   "id": "89889956",
   "metadata": {},
   "outputs": [],
   "source": [
    "from scipy.stats import shapiro"
   ]
  },
  {
   "cell_type": "code",
   "execution_count": 27,
   "id": "7b0d6d7d",
   "metadata": {},
   "outputs": [],
   "source": [
    "import scipy.stats as stats"
   ]
  },
  {
   "cell_type": "code",
   "execution_count": 28,
   "id": "8a259063",
   "metadata": {},
   "outputs": [],
   "source": [
    "# stats.ttest_1samp(measurement,popmean=)"
   ]
  },
  {
   "cell_type": "code",
   "execution_count": 29,
   "id": "00d216dc",
   "metadata": {},
   "outputs": [],
   "source": [
    "from statsmodels.stats.descriptivestats import sign_test"
   ]
  },
  {
   "cell_type": "code",
   "execution_count": 30,
   "id": "4496e045",
   "metadata": {},
   "outputs": [],
   "source": [
    "# nonparametric single sample test\n",
    "# single_test(measurement, mean)"
   ]
  },
  {
   "cell_type": "code",
   "execution_count": 31,
   "id": "9315d073",
   "metadata": {},
   "outputs": [],
   "source": [
    "# Nonparametrik dependent 2 sample test\n",
    "import scipy.stats as stats   # Variance homogeneous and normal distribution do not provide. Used Wilcoxon Test\n",
    "# stats.wilcoxon(Discrete.former, Discrete.following) "
   ]
  },
  {
   "cell_type": "code",
   "execution_count": 32,
   "id": "07fa3b72",
   "metadata": {},
   "outputs": [],
   "source": [
    "# AB Test"
   ]
  },
  {
   "cell_type": "code",
   "execution_count": 33,
   "id": "4e9c5c04",
   "metadata": {},
   "outputs": [],
   "source": [
    "# Variance Analysis (more than 2  groups)\n",
    "# F = (MS (between) / MS (within))\n",
    "# Dependent groups"
   ]
  },
  {
   "cell_type": "code",
   "execution_count": null,
   "id": "59e12a72",
   "metadata": {},
   "outputs": [],
   "source": []
  },
  {
   "cell_type": "raw",
   "id": "9e7ebf2b",
   "metadata": {},
   "source": []
  },
  {
   "cell_type": "code",
   "execution_count": null,
   "id": "bb236785",
   "metadata": {},
   "outputs": [],
   "source": [
    "# Normal --- Shapiro Test\n",
    "# Variance Homogen ---- Levene Test\n",
    "# Hypothesis  Test  from scipy.stats import f_oneway\n",
    "# Non parametric  Kruskal Test  ( Normal and  variance not prove)\n",
    "# Correlation Analysis\n",
    "# Correlation Meaning Test ( from scipy.stats.stats import pearsonr)\n",
    "# Non parametric Hypothesis Test ( For Correlation Spearmanr Test, KendallTau )"
   ]
  }
 ],
 "metadata": {
  "kernelspec": {
   "display_name": "Python 3",
   "language": "python",
   "name": "python3"
  },
  "language_info": {
   "codemirror_mode": {
    "name": "ipython",
    "version": 3
   },
   "file_extension": ".py",
   "mimetype": "text/x-python",
   "name": "python",
   "nbconvert_exporter": "python",
   "pygments_lexer": "ipython3",
   "version": "3.9.16"
  }
 },
 "nbformat": 4,
 "nbformat_minor": 5
}
